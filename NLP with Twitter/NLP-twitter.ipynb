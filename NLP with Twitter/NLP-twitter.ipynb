{
 "cells": [
  {
   "attachments": {},
   "cell_type": "markdown",
   "id": "c4271646",
   "metadata": {},
   "source": [
    "### Dataset"
   ]
  },
  {
   "cell_type": "code",
   "execution_count": 1,
   "id": "81086b11",
   "metadata": {},
   "outputs": [],
   "source": [
    "import snscrape.modules.twitter as sntwitter\n",
    "import pandas as pd\n",
    "import numpy as np\n",
    "from wordcloud import WordCloud, STOPWORDS, ImageColorGenerator\n",
    "import matplotlib.pyplot as plt\n",
    "import datetime\n",
    "import seaborn as sns"
   ]
  },
  {
   "cell_type": "code",
   "execution_count": 5,
   "id": "efd691a3",
   "metadata": {},
   "outputs": [
    {
     "name": "stderr",
     "output_type": "stream",
     "text": [
      "C:\\Users\\isant\\AppData\\Local\\Temp\\ipykernel_23776\\754565256.py:8: DeprecatedFeatureWarning: content is deprecated, use rawContent instead\n",
      "  tweets_list.append([tweet.date, tweet.id, tweet.content, tweet.user.username])\n"
     ]
    }
   ],
   "source": [
    "# Creating list to append tweet data to\n",
    "tweets_list = []\n",
    "\n",
    "# Using TwitterSearchScraper to scrape data and append tweets to list\n",
    "for i,tweet in enumerate(sntwitter.TwitterSearchScraper('Argentina since:2023-02-01 until:2023-03-13').get_items()):\n",
    "    if i>1000:\n",
    "        break\n",
    "    tweets_list.append([tweet.date, tweet.id, tweet.content, tweet.user.username])\n",
    "    \n",
    "# Creating a dataframe from the tweets list above\n",
    "tweets = pd.DataFrame(tweets_list, columns=['Datetime', 'Tweet Id', 'Text', 'Username'])"
   ]
  },
  {
   "cell_type": "code",
   "execution_count": 6,
   "id": "a94b2939",
   "metadata": {},
   "outputs": [
    {
     "data": {
      "text/html": [
       "<div>\n",
       "<style scoped>\n",
       "    .dataframe tbody tr th:only-of-type {\n",
       "        vertical-align: middle;\n",
       "    }\n",
       "\n",
       "    .dataframe tbody tr th {\n",
       "        vertical-align: top;\n",
       "    }\n",
       "\n",
       "    .dataframe thead th {\n",
       "        text-align: right;\n",
       "    }\n",
       "</style>\n",
       "<table border=\"1\" class=\"dataframe\">\n",
       "  <thead>\n",
       "    <tr style=\"text-align: right;\">\n",
       "      <th></th>\n",
       "      <th>Datetime</th>\n",
       "      <th>Tweet Id</th>\n",
       "      <th>Text</th>\n",
       "      <th>Username</th>\n",
       "    </tr>\n",
       "  </thead>\n",
       "  <tbody>\n",
       "    <tr>\n",
       "      <th>0</th>\n",
       "      <td>2023-03-12 23:59:59+00:00</td>\n",
       "      <td>1635068147974959104</td>\n",
       "      <td>Melhor documentário\\n\\nQuem acho que vence: Na...</td>\n",
       "      <td>srfilho1</td>\n",
       "    </tr>\n",
       "    <tr>\n",
       "      <th>1</th>\n",
       "      <td>2023-03-12 23:59:58+00:00</td>\n",
       "      <td>1635068146255286273</td>\n",
       "      <td>@van0scarr @arielipillo Exacto! Por eso Cristi...</td>\n",
       "      <td>Pepao07</td>\n",
       "    </tr>\n",
       "    <tr>\n",
       "      <th>2</th>\n",
       "      <td>2023-03-12 23:59:58+00:00</td>\n",
       "      <td>1635068146112659456</td>\n",
       "      <td>pontos positivos de estar vendo o oscar pela t...</td>\n",
       "      <td>nclrmaia</td>\n",
       "    </tr>\n",
       "    <tr>\n",
       "      <th>3</th>\n",
       "      <td>2023-03-12 23:59:58+00:00</td>\n",
       "      <td>1635068145928146945</td>\n",
       "      <td>@FansDesdoblados @renegarcia900 @LizbethAngeli...</td>\n",
       "      <td>FelixMo40196249</td>\n",
       "    </tr>\n",
       "    <tr>\n",
       "      <th>4</th>\n",
       "      <td>2023-03-12 23:59:57+00:00</td>\n",
       "      <td>1635068142614646786</td>\n",
       "      <td>PEDRO PASCAL CON ZAPATILLAS DE ARGENTINA\\nNO, ...</td>\n",
       "      <td>gatuniti</td>\n",
       "    </tr>\n",
       "    <tr>\n",
       "      <th>...</th>\n",
       "      <td>...</td>\n",
       "      <td>...</td>\n",
       "      <td>...</td>\n",
       "      <td>...</td>\n",
       "    </tr>\n",
       "    <tr>\n",
       "      <th>996</th>\n",
       "      <td>2023-03-12 23:42:08+00:00</td>\n",
       "      <td>1635063655795691520</td>\n",
       "      <td>CAMPEONAS del #WPTLaRiojaOpen\\n\\n@gemmatriay y...</td>\n",
       "      <td>MonicaMontes_MM</td>\n",
       "    </tr>\n",
       "    <tr>\n",
       "      <th>997</th>\n",
       "      <td>2023-03-12 23:42:07+00:00</td>\n",
       "      <td>1635063653367169024</td>\n",
       "      <td>p Argentina foi foda</td>\n",
       "      <td>sthfnn_y</td>\n",
       "    </tr>\n",
       "    <tr>\n",
       "      <th>998</th>\n",
       "      <td>2023-03-12 23:42:07+00:00</td>\n",
       "      <td>1635063651639099393</td>\n",
       "      <td>Argentina indo atrás do 3° troféu...\\n\\nBrasil...</td>\n",
       "      <td>LuanOBardo</td>\n",
       "    </tr>\n",
       "    <tr>\n",
       "      <th>999</th>\n",
       "      <td>2023-03-12 23:42:07+00:00</td>\n",
       "      <td>1635063651404226560</td>\n",
       "      <td>@animartino Argentina esta infestada de social...</td>\n",
       "      <td>AmadeusGayoso</td>\n",
       "    </tr>\n",
       "    <tr>\n",
       "      <th>1000</th>\n",
       "      <td>2023-03-12 23:42:06+00:00</td>\n",
       "      <td>1635063646576594945</td>\n",
       "      <td>@Quesadacid Yo creo que lo que pasa es que val...</td>\n",
       "      <td>matt1327</td>\n",
       "    </tr>\n",
       "  </tbody>\n",
       "</table>\n",
       "<p>1001 rows × 4 columns</p>\n",
       "</div>"
      ],
      "text/plain": [
       "                      Datetime             Tweet Id  \\\n",
       "0    2023-03-12 23:59:59+00:00  1635068147974959104   \n",
       "1    2023-03-12 23:59:58+00:00  1635068146255286273   \n",
       "2    2023-03-12 23:59:58+00:00  1635068146112659456   \n",
       "3    2023-03-12 23:59:58+00:00  1635068145928146945   \n",
       "4    2023-03-12 23:59:57+00:00  1635068142614646786   \n",
       "...                        ...                  ...   \n",
       "996  2023-03-12 23:42:08+00:00  1635063655795691520   \n",
       "997  2023-03-12 23:42:07+00:00  1635063653367169024   \n",
       "998  2023-03-12 23:42:07+00:00  1635063651639099393   \n",
       "999  2023-03-12 23:42:07+00:00  1635063651404226560   \n",
       "1000 2023-03-12 23:42:06+00:00  1635063646576594945   \n",
       "\n",
       "                                                   Text         Username  \n",
       "0     Melhor documentário\\n\\nQuem acho que vence: Na...         srfilho1  \n",
       "1     @van0scarr @arielipillo Exacto! Por eso Cristi...          Pepao07  \n",
       "2     pontos positivos de estar vendo o oscar pela t...         nclrmaia  \n",
       "3     @FansDesdoblados @renegarcia900 @LizbethAngeli...  FelixMo40196249  \n",
       "4     PEDRO PASCAL CON ZAPATILLAS DE ARGENTINA\\nNO, ...         gatuniti  \n",
       "...                                                 ...              ...  \n",
       "996   CAMPEONAS del #WPTLaRiojaOpen\\n\\n@gemmatriay y...  MonicaMontes_MM  \n",
       "997                                p Argentina foi foda         sthfnn_y  \n",
       "998   Argentina indo atrás do 3° troféu...\\n\\nBrasil...       LuanOBardo  \n",
       "999   @animartino Argentina esta infestada de social...    AmadeusGayoso  \n",
       "1000  @Quesadacid Yo creo que lo que pasa es que val...         matt1327  \n",
       "\n",
       "[1001 rows x 4 columns]"
      ]
     },
     "execution_count": 6,
     "metadata": {},
     "output_type": "execute_result"
    }
   ],
   "source": [
    "tweets"
   ]
  },
  {
   "cell_type": "code",
   "execution_count": null,
   "id": "279077d0",
   "metadata": {},
   "outputs": [],
   "source": [
    "# save into a csv. Spoileralert: sometimes sns doesn't work (but you can sure it'll be fixed ASAP =))\n",
    "\n",
    "tweets.to_csv('tweets.csv', index = False)"
   ]
  },
  {
   "cell_type": "markdown",
   "id": "12381341",
   "metadata": {},
   "source": [
    "### Text cleaning."
   ]
  }
 ],
 "metadata": {
  "kernelspec": {
   "display_name": "Python 3 (ipykernel)",
   "language": "python",
   "name": "python3"
  },
  "language_info": {
   "codemirror_mode": {
    "name": "ipython",
    "version": 3
   },
   "file_extension": ".py",
   "mimetype": "text/x-python",
   "name": "python",
   "nbconvert_exporter": "python",
   "pygments_lexer": "ipython3",
   "version": "3.9.4"
  }
 },
 "nbformat": 4,
 "nbformat_minor": 5
}
